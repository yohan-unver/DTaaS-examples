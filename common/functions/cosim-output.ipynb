{
 "cells": [
  {
   "cell_type": "code",
   "execution_count": null,
   "metadata": {},
   "outputs": [],
   "source": [
    "!pip install pandas matplotlib"
   ]
  },
  {
   "cell_type": "code",
   "execution_count": null,
   "metadata": {},
   "outputs": [],
   "source": [
    "import pandas as pd\n",
    "import matplotlib.pyplot as plt\n",
    "\n",
    "data = pd.read_csv('../data/cosim/maestro-output.csv')\n",
    "columns_list = list(data.columns)\n",
    "\n",
    "for index, column in enumerate(columns_list):\n",
    "    print(f\"Column {index}: {column}\")"
   ]
  },
  {
   "cell_type": "code",
   "execution_count": null,
   "metadata": {
    "collapsed": false,
    "jupyter": {
     "outputs_hidden": false
    }
   },
   "outputs": [],
   "source": [
    "# Change the index in the square brackets to the corresponding index of the desired column\n",
    "x_column = data.columns[0]\n",
    "y_column = data.columns[1]\n",
    "\n",
    "plt.figure(figsize=(8, 4))\n",
    "plt.plot(data[x_column], data[y_column], linewidth=2)\n",
    "plt.title(\"Co-simulation outputs\")\n",
    "plt.xlabel(x_column)\n",
    "plt.ylabel(y_column)\n",
    "plt.grid(True)\n",
    "\n",
    "plt.show()\n",
    "plt.savefig(\"../data/cosim/time-series.png\")\n",
    "plt.close()"
   ]
  },
  {
   "cell_type": "code",
   "execution_count": null,
   "metadata": {
    "collapsed": false,
    "jupyter": {
     "outputs_hidden": false
    }
   },
   "outputs": [],
   "source": [
    "# subplot of each column (except the time column)\n",
    "\n",
    "df = pd.read_csv('../data/cosim/maestro-output.csv')\n",
    "\n",
    "fig, axs = plt.subplots(len(df.columns[1:]), 1, figsize=(15, 15)) \n",
    "\n",
    "for i, column in enumerate(df.columns[1:]):\n",
    "   axs[i].plot(df['time'], df[column])\n",
    "   axs[i].grid(True)\n",
    "   axs[i].set_title(column)\n",
    "    \n",
    "plt.show() \n",
    "plt.savefig('../data/cosim/subplots.png')\n",
    "plt.close()"
   ]
  },
  {
   "cell_type": "code",
   "execution_count": null,
   "metadata": {},
   "outputs": [],
   "source": [
    "# Boxplot\n",
    "fig, ax = plt.subplots(figsize=(10, 6)) # Increase the figure size\n",
    "\n",
    "for i, column in enumerate(df.columns[1:], start=1): # Exclude the first column (time column)\n",
    " ax.boxplot(df[column], positions=[i], widths=0.6)\n",
    " ax.set_title(\"Boxplot\", pad=20) # Add padding between the title and the plot\n",
    "plt.xticks(range(1, len(df.columns)), df.columns[1:], rotation=25, ha='right')\n",
    "\n",
    "plt.show() \n",
    "plt.savefig(\"../data/cosim/boxplot.png\")\n",
    "plt.close()"
   ]
  }
 ],
 "metadata": {
  "kernelspec": {
   "display_name": "Python 3 (ipykernel)",
   "language": "python",
   "name": "python3"
  },
  "language_info": {
   "codemirror_mode": {
    "name": "ipython",
    "version": 3
   },
   "file_extension": ".py",
   "mimetype": "text/x-python",
   "name": "python",
   "nbconvert_exporter": "python",
   "pygments_lexer": "ipython3",
   "version": "3.10.12"
  }
 },
 "nbformat": 4,
 "nbformat_minor": 4
}
